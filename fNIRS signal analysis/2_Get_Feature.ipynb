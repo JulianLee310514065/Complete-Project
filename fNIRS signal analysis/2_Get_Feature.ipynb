{
 "cells": [
  {
   "attachments": {},
   "cell_type": "markdown",
   "metadata": {},
   "source": [
    "# 本 ipynb 目標\n",
    "> 把特徵除理好存成 excel(或是csv)\n",
    "\n",
    "[刪除output](https://www.codegrepper.com/code-examples/python/how+to+clear+output+in+jupyter+notebook)"
   ]
  },
  {
   "cell_type": "code",
   "execution_count": null,
   "metadata": {},
   "outputs": [],
   "source": [
    "import numpy as np\n",
    "import seaborn as sns\n",
    "import pandas as pd\n",
    "import matplotlib.pyplot as plt\n",
    "import os\n",
    "import glob\n",
    "from IPython.display import clear_output\n",
    "\n",
    "# import 之前寫的東西 -> import_ipynb 可以用\n",
    "import import_ipynb\n",
    "import feature_extraction_function \n",
    "\n",
    "clear_output(wait= False)\n"
   ]
  },
  {
   "cell_type": "code",
   "execution_count": null,
   "metadata": {},
   "outputs": [],
   "source": [
    "os.getcwd()"
   ]
  },
  {
   "cell_type": "code",
   "execution_count": null,
   "metadata": {},
   "outputs": [],
   "source": [
    "# 看濾波完的東西，\n",
    "all_filtered_csv = glob.glob('Filtered/*.csv')\n",
    "all_filtered_csv[:5]"
   ]
  },
  {
   "cell_type": "code",
   "execution_count": null,
   "metadata": {},
   "outputs": [],
   "source": [
    "df = pd.read_csv(all_filtered_csv[1])\n",
    "df = df.drop(columns= ['Time_Arduino', 'easingdata'])\n",
    "df = df.set_index('Time_Host')\n",
    "\n",
    "if __name__ == \"__main__\":\n",
    "    value, ind = feature_extraction_function.stage_auc(df, plot= True, use_col= 3)#\n",
    "\n",
    "print(value, ind)"
   ]
  },
  {
   "cell_type": "code",
   "execution_count": null,
   "metadata": {},
   "outputs": [],
   "source": [
    "# 看有啥函數能用\n",
    "# dir(Extraction)"
   ]
  },
  {
   "cell_type": "code",
   "execution_count": null,
   "metadata": {},
   "outputs": [],
   "source": [
    "df_all = pd.DataFrame()\n",
    "\n",
    "# 沒錯就這樣，因為函數寫在隔壁了\n",
    "for files in all_filtered_csv:\n",
    "\n",
    "    temp_value = []\n",
    "    temp_ind = []\n",
    "\n",
    "    people = files.split('\\\\')[-1].split('.')[0].split('_')[-1]\n",
    "\n",
    "    # 讀取檔案\n",
    "    df = pd.read_csv(files)\n",
    "    df = df.drop(columns= ['Time_Arduino', 'easingdata'])\n",
    "    df = df.set_index('Time_Host')\n",
    "\n",
    "    # 一種一個的加\n",
    "    value1, index1 = feature_extraction_function.stage_begin_slope(df)\n",
    "    temp_value += value1; temp_ind += index1\n",
    "\n",
    "    value2, index2 = feature_extraction_function.stage_mean(df)\n",
    "    temp_value += value2; temp_ind += index2\n",
    "\n",
    "    value3, index3 = feature_extraction_function.stage_mean_diff(df)\n",
    "    temp_value += value3; temp_ind += index3\n",
    "\n",
    "    value4, index4 = feature_extraction_function.stage_acivation(df)\n",
    "    temp_value += value4; temp_ind += index4\n",
    "\n",
    "    value5, index5 = feature_extraction_function.stage_std(df)\n",
    "    temp_value += value5; temp_ind += index5\n",
    "\n",
    "    value6, index6 = feature_extraction_function.stage_begin_slope_diff(df)\n",
    "    temp_value += list(value6); temp_ind += index6\n",
    "\n",
    "    value7, index7 = feature_extraction_function.stage_skew(df)\n",
    "    temp_value += value7; temp_ind += index7\n",
    "\n",
    "    value8, index8 = feature_extraction_function.stage_kurtosis(df)\n",
    "    temp_value += value8; temp_ind += index8\n",
    "\n",
    "    value9, index9 = feature_extraction_function.stage_auc(df)\n",
    "    temp_value += value9; temp_ind += index9\n",
    "\n",
    "\n",
    "\n",
    "    temp_ind, temp_value\n",
    "    df_all[people] = temp_value\n",
    "\n",
    "df_all.index = temp_ind\n"
   ]
  },
  {
   "cell_type": "code",
   "execution_count": null,
   "metadata": {},
   "outputs": [],
   "source": [
    "Features = df_all.T\n",
    "Features.head()"
   ]
  },
  {
   "cell_type": "code",
   "execution_count": null,
   "metadata": {},
   "outputs": [],
   "source": [
    "Features.to_excel('Features.xlsx')"
   ]
  },
  {
   "cell_type": "code",
   "execution_count": null,
   "metadata": {},
   "outputs": [],
   "source": []
  }
 ],
 "metadata": {
  "interpreter": {
   "hash": "ad2bdc8ecc057115af97d19610ffacc2b4e99fae6737bb82f5d7fb13d2f2c186"
  },
  "kernelspec": {
   "display_name": "Python 3.9.7 ('base')",
   "language": "python",
   "name": "python3"
  },
  "language_info": {
   "codemirror_mode": {
    "name": "ipython",
    "version": 3
   },
   "file_extension": ".py",
   "mimetype": "text/x-python",
   "name": "python",
   "nbconvert_exporter": "python",
   "pygments_lexer": "ipython3",
   "version": "3.9.7"
  },
  "orig_nbformat": 4
 },
 "nbformat": 4,
 "nbformat_minor": 2
}
