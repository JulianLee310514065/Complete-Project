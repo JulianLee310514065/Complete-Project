{
 "cells": [
  {
   "attachments": {},
   "cell_type": "markdown",
   "metadata": {},
   "source": [
    "# 資料處理Q&A\n",
    "\n",
    "1. 先處理 NaN、inf 還先濾波??\n",
    "    > 先處理 Nan、inf\n",
    "\n",
    "2. ### 刪除Channel 還是刪除人??\n",
    "    > 先刪除 Channel，不行再刪除人"
   ]
  },
  {
   "cell_type": "code",
   "execution_count": null,
   "metadata": {},
   "outputs": [],
   "source": [
    "# import 必須資料\n",
    "import os\n",
    "import glob\n",
    "\n",
    "import pandas as pd\n",
    "import numpy as np\n",
    "import matplotlib.pyplot as plt\n",
    "import seaborn as sns"
   ]
  },
  {
   "cell_type": "code",
   "execution_count": null,
   "metadata": {},
   "outputs": [],
   "source": [
    "# 確認資料夾，確認VFT data 跟 .ipynb 沒放同一個資料夾\n",
    "print(os.getcwd())"
   ]
  },
  {
   "cell_type": "code",
   "execution_count": null,
   "metadata": {},
   "outputs": [],
   "source": [
    "# 找所有的csv名字\n",
    "all_csv = glob.glob('VFT/*.csv')\n",
    "print(\"length = \", len(all_csv))\n",
    "\n",
    "# 計算沒有重複的名字，避免有些人重複多次\n",
    "count_name = []\n",
    "for banana in all_csv :\n",
    "    real_name = banana.split('_')[-1].split('.')[0]\n",
    "    if not real_name in count_name:\n",
    "        count_name.append(real_name)\n",
    "\n",
    "print('unique name = ', len(count_name))\n",
    "\n",
    "# 看前五個\n",
    "all_csv[:5]"
   ]
  },
  {
   "attachments": {},
   "cell_type": "markdown",
   "metadata": {},
   "source": [
    "## 先試試一個人\n",
    "正常需使用`df = df.iloc[:, :11]`\n",
    "\n",
    "`df = df.iloc[:, :9]` 是因為Ch4 經過考量捨棄，為捨棄前請全取"
   ]
  },
  {
   "cell_type": "code",
   "execution_count": null,
   "metadata": {},
   "outputs": [],
   "source": [
    "select = 11\n",
    "csv_name = all_csv[3]\n",
    "df = pd.read_csv(csv_name)\n",
    "df = df.iloc[:, :select]\n",
    "df.columns"
   ]
  },
  {
   "cell_type": "code",
   "execution_count": null,
   "metadata": {},
   "outputs": [],
   "source": [
    "# check null <必>\n",
    "df.isna().sum()"
   ]
  },
  {
   "attachments": {},
   "cell_type": "markdown",
   "metadata": {},
   "source": [
    "# 畫圖看看\n",
    "\n",
    "1. 用 `subplot()` 可以自動一格一格畫\n",
    "2. 記得 `tight_layout`"
   ]
  },
  {
   "cell_type": "code",
   "execution_count": null,
   "metadata": {},
   "outputs": [],
   "source": [
    "fig = plt.figure(figsize= (10, 10))\n",
    "\n",
    "\n",
    "for i, cols in enumerate(df.columns[3:]):\n",
    "    plt.subplot(int((select-3)/2), 2, i+1)\n",
    "    plt.plot(df['Time_Host'], df[cols])\n",
    "    plt.title(cols)\n",
    "    plt.tight_layout()\n",
    "\n",
    "fig.suptitle(f'{csv_name}',fontweight =\"bold\")\n",
    "\n",
    "plt.show()"
   ]
  },
  {
   "attachments": {},
   "cell_type": "markdown",
   "metadata": {},
   "source": [
    "# 開始做data process\n",
    "### 1. 看 NuN 、infinite "
   ]
  },
  {
   "cell_type": "code",
   "execution_count": null,
   "metadata": {},
   "outputs": [],
   "source": [
    "check_state = pd.DataFrame()\n",
    "\n",
    "for i in all_csv:\n",
    "    # 取名字\n",
    "    filename = i.split('_')[-1]\n",
    "    name = filename.split('.')[0] \n",
    "    dfs = pd.read_csv(i)\n",
    "    # 取要的行\n",
    "    dfs = dfs.iloc[:, :select]\n",
    "    check_state[name + '_all'] = dfs.isna().sum() + np.isinf(dfs).sum()\n",
    "\n",
    "check_state.tail(8)"
   ]
  },
  {
   "attachments": {},
   "cell_type": "markdown",
   "metadata": {},
   "source": [
    "### 看一下各Channel狀況(上面dataframe水平加起來)\n",
    "\n",
    "> 太多Nan的就要去除掉"
   ]
  },
  {
   "cell_type": "code",
   "execution_count": null,
   "metadata": {},
   "outputs": [],
   "source": [
    "check_state.sum(axis= 1)"
   ]
  },
  {
   "attachments": {},
   "cell_type": "markdown",
   "metadata": {},
   "source": [
    "### 去除Channel 4，請用drop"
   ]
  },
  {
   "cell_type": "code",
   "execution_count": null,
   "metadata": {},
   "outputs": [],
   "source": [
    "check_state = pd.DataFrame()\n",
    "\n",
    "for i in all_csv:\n",
    "    filename = i.split('_')[-1]\n",
    "    name = filename.split('.')[0] \n",
    "    dfs = pd.read_csv(i)\n",
    "    dfs = dfs.iloc[:, :select]\n",
    "    dfs.drop(columns=['CH4_Oxy', 'CH4_Deoxy'], inplace= True)\n",
    "    check_state[name + '_all'] = dfs.isna().sum() + np.isinf(dfs).sum()\n",
    "\n",
    "check_state.tail(8)"
   ]
  },
  {
   "attachments": {},
   "cell_type": "markdown",
   "metadata": {},
   "source": [
    "### 看一下每個人的狀況(上面dataframe垂直加起來)\n",
    "\n",
    "> 太多Miss的就要去除掉"
   ]
  },
  {
   "cell_type": "code",
   "execution_count": null,
   "metadata": {},
   "outputs": [],
   "source": [
    "rank = check_state.sum(axis= 0).sort_values(ascending= False)[:12]\n",
    "rank"
   ]
  },
  {
   "attachments": {},
   "cell_type": "markdown",
   "metadata": {},
   "source": [
    "# NaN + inf > 1000 的人刪除\n",
    "\n",
    "> 閥值自己訂\n"
   ]
  },
  {
   "cell_type": "code",
   "execution_count": null,
   "metadata": {},
   "outputs": [],
   "source": [
    "print(\"Number of Data\", len(all_csv))\n",
    "bad = rank[rank >1000].index\n",
    "for alls in all_csv:\n",
    "    for bads in bad:\n",
    "        name1 = bads.split(\"_\")[0]\n",
    "\n",
    "        if name1 in alls:\n",
    "            print(\"Delect: \", alls)\n",
    "            all_csv.remove(alls)\n",
    "\n",
    "print(\"Number of Data\", len(all_csv))"
   ]
  },
  {
   "attachments": {},
   "cell_type": "markdown",
   "metadata": {},
   "source": [
    "# 補值\n",
    "\n",
    "> ### 就算少，還是不可以有 null, inf\n",
    "\n",
    "1. ffill -> 最好用，補前值\n",
    "2. bfill -> 補後值\n",
    "3. `pandas.DataFrame.interpolate`  -> 1, 2, ?, 4, 5  $\\rightarrow$ ? = 3\n",
    "\n"
   ]
  },
  {
   "cell_type": "code",
   "execution_count": null,
   "metadata": {},
   "outputs": [],
   "source": [
    "# 隨便取一個看缺失值\n",
    "df = pd.read_csv(all_csv[4])\n",
    "dfs = df.iloc[:, :9]\n",
    "print(np.isinf(dfs).sum())\n"
   ]
  },
  {
   "attachments": {},
   "cell_type": "markdown",
   "metadata": {},
   "source": [
    "### 確認補完後缺失值"
   ]
  },
  {
   "cell_type": "code",
   "execution_count": null,
   "metadata": {},
   "outputs": [],
   "source": [
    "dfs[np.isinf(dfs)]= None\n",
    "dfs = dfs.ffill(axis= 1)\n",
    "np.isinf(dfs).sum() + dfs.isna().sum()"
   ]
  },
  {
   "attachments": {},
   "cell_type": "markdown",
   "metadata": {},
   "source": [
    "# 濾波\n",
    "> 請先確認沒有miss值了\n",
    "\n",
    "1. 四階butterword (可以更改)  -> 可自行查\n",
    "```\n",
    "from scipy import signal\n",
    "b, c = signal.butter(4, 0.01, 'lowpass')\n",
    "```\n",
    "\n",
    "$W_n = \\frac{f}{f_s/2}$ = $\\frac{截止頻率}{取樣頻率/ 2}$\n",
    "\n",
    "我們的\n",
    "\n",
    "$\\frac{0.01}{24/2} \\approx 0.0083$\n",
    "\n",
    "因為其實 0.01 ~ 0.015都可以，所以取0.012，$W_n就 0.01$"
   ]
  },
  {
   "attachments": {},
   "cell_type": "markdown",
   "metadata": {},
   "source": [
    "`b, c = signal.butter(4, Wn, 'lowpass')`"
   ]
  },
  {
   "cell_type": "code",
   "execution_count": null,
   "metadata": {},
   "outputs": [],
   "source": [
    "# 開始濾波\n",
    "from scipy import signal\n",
    "\n",
    "# Wn = 0.01 \n",
    "b, c = signal.butter(4, 0.01, 'lowpass')\n",
    "print(len(b), len(c))"
   ]
  },
  {
   "cell_type": "code",
   "execution_count": null,
   "metadata": {},
   "outputs": [],
   "source": [
    "# 濾CH1看看\n",
    "CH1_HbO2_filter_a = signal.filtfilt(b, c, df.CH1_Oxy)\n",
    "CH1_HbO2_filter_a\n",
    "\n",
    "plt.plot(df.Time_Host, CH1_HbO2_filter_a)\n",
    "plt.show()"
   ]
  },
  {
   "attachments": {},
   "cell_type": "markdown",
   "metadata": {},
   "source": [
    "### 請用for，不要一行一行濾"
   ]
  },
  {
   "cell_type": "code",
   "execution_count": null,
   "metadata": {},
   "outputs": [],
   "source": [
    "# 全部一起濾波\n",
    "need_filt = ['CH1_Oxy', 'CH1_Deoxy', 'CH2_Oxy', 'CH2_Deoxy', 'CH3_Oxy', 'CH3_Deoxy']\n",
    "\n",
    "for need in need_filt:\n",
    "    dfs[need] = signal.filtfilt(b, c, dfs[need])\n",
    "\n",
    "# 看前五個\n",
    "dfs.head()"
   ]
  },
  {
   "attachments": {},
   "cell_type": "markdown",
   "metadata": {},
   "source": [
    "### 她媽乾淨"
   ]
  },
  {
   "cell_type": "code",
   "execution_count": null,
   "metadata": {},
   "outputs": [],
   "source": [
    "# 濾完了\n",
    "plt.figure(figsize= (10, 10))\n",
    "\n",
    "for i, cols in enumerate(need_filt):\n",
    "    plt.subplot(int((select-3)/2), 2, i+1)\n",
    "    plt.plot(dfs['Time_Host'], dfs[cols])\n",
    "    plt.title(cols)\n",
    "    plt.tight_layout()\n",
    "plt.show()"
   ]
  },
  {
   "attachments": {},
   "cell_type": "markdown",
   "metadata": {},
   "source": [
    "# $\\star$ 批量濾波 (試試函數能否套用於所有人)\n",
    "\n",
    "> 上面都是以\"一個人\"為單位，現在\"批量做\"\n",
    "\n"
   ]
  },
  {
   "cell_type": "code",
   "execution_count": null,
   "metadata": {},
   "outputs": [],
   "source": [
    "check_states = pd.DataFrame()\n",
    "need_filt = ['CH1_Oxy', 'CH1_Deoxy', 'CH2_Oxy', 'CH2_Deoxy', 'CH3_Oxy', 'CH3_Deoxy']\n",
    "b, c = signal.butter(4, 0.01, 'lowpass')\n",
    "\n",
    "for i in all_csv:\n",
    "    filename = i.split('_')[-1]\n",
    "    name = filename.split('.')[0] \n",
    "\n",
    "    dfs = pd.read_csv(i)\n",
    "    dfs = dfs.iloc[:, :9]\n",
    "\n",
    "    dfs[np.isinf(dfs)]= None\n",
    "    dfs = dfs.ffill(axis= 1)\n",
    "\n",
    "    for needs in need_filt:\n",
    "        dfs[needs] = signal.filtfilt(b, c, dfs[needs])\n",
    "\n",
    "    # 看濾完波有沒有人不見    \n",
    "    check_states[name + '_all'] = dfs.isna().sum()+ np.isinf(dfs).sum()\n",
    "\n"
   ]
  },
  {
   "attachments": {},
   "cell_type": "markdown",
   "metadata": {},
   "source": [
    "## 確認有濾好，沒有null"
   ]
  },
  {
   "cell_type": "code",
   "execution_count": null,
   "metadata": {},
   "outputs": [],
   "source": [
    "# 以channel為單位\n",
    "check_states.sum(axis= 1).sort_values(ascending= False)"
   ]
  },
  {
   "cell_type": "code",
   "execution_count": null,
   "metadata": {},
   "outputs": [],
   "source": [
    "# 以人為單位\n",
    "rank = check_states.sum(axis= 0).sort_values(ascending= False)[:10]\n",
    "rank"
   ]
  },
  {
   "attachments": {},
   "cell_type": "markdown",
   "metadata": {},
   "source": [
    "# $\\star$ MinMax -> 消除個體差異\n",
    "\n",
    "> 消除個體差異\n",
    "\n",
    "> $\\frac{x - x_{min}}{x_{max} - x_{min}}$"
   ]
  },
  {
   "cell_type": "code",
   "execution_count": null,
   "metadata": {},
   "outputs": [],
   "source": [
    "# minmax\n",
    "dfs.iloc[:, 3:] = (dfs.iloc[:, 3:] - dfs.iloc[:, 3:].min())/(dfs.iloc[:, 3:].max()- dfs.iloc[:, 3:].min())\n",
    "dfs"
   ]
  },
  {
   "cell_type": "code",
   "execution_count": null,
   "metadata": {},
   "outputs": [],
   "source": [
    "# 畫出來\n",
    "plt.figure(figsize= (10, 10))\n",
    "for i, cols in enumerate(need_filt):\n",
    "    plt.subplot(4, 2, i+1)\n",
    "    plt.plot(dfs['Time_Host'], dfs[cols])\n",
    "    plt.title(cols)\n",
    "    plt.tight_layout()\n",
    "plt.show()"
   ]
  },
  {
   "attachments": {},
   "cell_type": "markdown",
   "metadata": {},
   "source": [
    "---\n",
    "---"
   ]
  },
  {
   "attachments": {},
   "cell_type": "markdown",
   "metadata": {},
   "source": [
    "# 整理一下整體流程 :  data preprocess + Lowpass filter + Minmax + to_csv\n",
    "\n",
    "> 一段For (全人)\n",
    "1. 讀取全部檔案，看是否有人名重複\n",
    "2. 查看缺失值來判斷要刪除哪些Channel或是人\n",
    "3. 刪完之後再補值\n",
    "\n",
    "> 二段For (過濾太多缺失值)\n",
    "4. 濾波(Filter)\n",
    "5. minmax 消除個體差異\n",
    "6. to_csv 存成csv，放於別的資料夾供之後使用\n"
   ]
  },
  {
   "cell_type": "code",
   "execution_count": null,
   "metadata": {},
   "outputs": [],
   "source": [
    "# 若沒資料夾則創資料夾，有就略過\n",
    "os.getcwd()\n",
    "try:\n",
    "    os.mkdir('Filtered')\n",
    "except:\n",
    "    pass"
   ]
  },
  {
   "cell_type": "code",
   "execution_count": null,
   "metadata": {},
   "outputs": [],
   "source": [
    "# 找所有的csv名字\n",
    "all_csv = glob.glob('VFT/*.csv')\n",
    "print(\"length = \", len(all_csv))\n",
    "\n",
    "# 計算沒有重複的名字，避免有些人重複多次\n",
    "count_name = []\n",
    "for banana in all_csv :\n",
    "    real_name = banana.split('_')[-1].split('.')[0]\n",
    "    if not real_name in count_name:\n",
    "        count_name.append(real_name)\n",
    "\n",
    "print('unique name = ', len(count_name))\n",
    "\n",
    "# 看前五個\n",
    "all_csv[:5]"
   ]
  },
  {
   "cell_type": "code",
   "execution_count": null,
   "metadata": {},
   "outputs": [],
   "source": [
    "need_filt = ['CH1_Oxy', 'CH1_Deoxy', 'CH2_Oxy', 'CH2_Deoxy', 'CH3_Oxy', 'CH3_Deoxy']\n",
    "a = 0\n",
    "\n",
    "print(\"Number of Data\", len(all_csv))\n",
    "for files in all_csv:\n",
    "    # 取人名\n",
    "    filename = files.split('_')[-1]\n",
    "    name = filename.split('.')[0] \n",
    "\n",
    "    #讀跟切(取下要的就好)\n",
    "    dfs = pd.read_csv(files)\n",
    "    dfs = dfs.iloc[:, :11]\n",
    "    dfs.drop(columns=['CH4_Oxy', 'CH4_Deoxy'], inplace= True)\n",
    "\n",
    "\n",
    "\n",
    "    null_count = dfs.isna().sum() + np.isinf(dfs).sum()\n",
    "    \n",
    "    # 刪除缺失值大於1000的人\n",
    "    many_null = len(null_count[null_count > 1000])\n",
    "\n",
    "    if many_null > 0:\n",
    "        print(name, \"'s data is not good to use\")\n",
    "        continue\n",
    "    \n",
    "    a = a + 1\n",
    "\n",
    "\n",
    "    # inf to nan to ffill\n",
    "    dfs[np.isinf(dfs)]= None\n",
    "    dfs = dfs.ffill(axis= 1)\n",
    "\n",
    "    # 濾波\n",
    "    b, c = signal.butter(4, 0.01, 'lowpass')\n",
    "    for needs in need_filt:\n",
    "        dfs[needs] = signal.filtfilt(b, c, dfs[needs])\n",
    "\n",
    "    # minmax\n",
    "    dfs.iloc[:, 3:] = (dfs[need_filt] - dfs[need_filt].min())/(dfs[need_filt].max()- dfs[need_filt].min())\n",
    "        \n",
    "    dfs.to_csv('Filtered\\\\'+ \"F_\" + filename, index= False)\n",
    "\n",
    "print(\"Number of Data \", a)"
   ]
  },
  {
   "attachments": {},
   "cell_type": "markdown",
   "metadata": {},
   "source": [
    "# 讀取濾波完的 .csv，並畫圖\n",
    "> ### time 變成 index 可以直接用loc切"
   ]
  },
  {
   "cell_type": "code",
   "execution_count": null,
   "metadata": {},
   "outputs": [],
   "source": [
    "alls = glob.glob('Filtered/*.csv')\n",
    "print(len(alls))\n",
    "alls[:5]"
   ]
  },
  {
   "cell_type": "code",
   "execution_count": null,
   "metadata": {},
   "outputs": [],
   "source": [
    "pd.read_csv(alls[5])"
   ]
  },
  {
   "cell_type": "code",
   "execution_count": null,
   "metadata": {},
   "outputs": [],
   "source": [
    "# 看個資料型態\n",
    "check_df = pd.read_csv(alls[25], index_col= 'Time_Host').drop(columns= ['Time_Arduino', 'easingdata'])\n",
    "print(check_df.dtypes)\n",
    "\n",
    "check_df.head()"
   ]
  },
  {
   "attachments": {},
   "cell_type": "markdown",
   "metadata": {},
   "source": [
    "# 畫圖\n",
    "\n",
    "### matplotlib.pyplot 自己練\n",
    "\n",
    "重點:\n",
    "1. `facecolor=sns.color_palette('Paired')[1]`  -> 自己配色會比我阿嬤還醜\n",
    "2. `bbox=dict(boxstyle=\"round\",ec=(1., 0.5, 0.5),fc=(1., 0.8, 0.8),)1` -> bbox 可以唱bbox\n",
    "\n",
    "### 階段\n",
    "\n",
    "* 第一階段: 0 ~ 30  -> rest\n",
    "* 第二階段: 30 ~ 90  -> Task\n",
    "* 第三階段: 90 ~ 160  -> recovery"
   ]
  },
  {
   "cell_type": "code",
   "execution_count": null,
   "metadata": {},
   "outputs": [],
   "source": [
    "from matplotlib.lines import Line2D\n",
    "custom_lines = [Line2D([0], [0], color='blue', lw=4),\n",
    "                Line2D([0], [0], color='red', lw=4)]\n",
    "\n"
   ]
  },
  {
   "cell_type": "code",
   "execution_count": null,
   "metadata": {},
   "outputs": [],
   "source": [
    "stage1 = 30\n",
    "stage2 = 90\n",
    "stage3 = 160\n",
    "text_size = 25\n",
    "\n",
    "plt.figure(figsize= (18, 14))\n",
    "for i in range(len(check_df.columns)//2):\n",
    "    plt.subplot(3, 1, i+1)\n",
    "\n",
    "    # 第一階段\n",
    "    plt.plot(check_df.loc[:stage1].index, check_df.loc[:stage1].iloc[:, 2*i], c= 'b',  linewidth=3.0, label= 'Rest_Oxy')\n",
    "    plt.plot(check_df.loc[:stage1].index, check_df.loc[:stage1].iloc[:, 2*i + 1], c= 'r',  linewidth=3.0, label= 'Rest_deoxy')\n",
    "\n",
    "    plt.axvspan(0, stage1, facecolor = sns.color_palette('Paired')[0], alpha=0.5)\n",
    "    plt.vlines(stage1, -0.1, 1.3, linestyles= '--', colors= 'black',  linewidth=2.0)\n",
    "    plt.text(stage1/2, 1.2, \"Rest\", size= text_size, ha=\"center\", va= 'center', bbox=dict(boxstyle=\"round\", ec=(1., 0.5, 0.5), fc=(1., 0.8, 0.8)))\n",
    "\n",
    "    # 第二階段\n",
    "    plt.plot(check_df.loc[stage1:stage2].index, check_df.loc[stage1:stage2].iloc[:, 2*i], c= 'b', linewidth=3.0, label= 'Task_Oxy')\n",
    "    plt.plot(check_df.loc[stage1:stage2].index, check_df.loc[stage1:stage2].iloc[:, 2*i + 1], c= 'r', linewidth=3.0, label= 'Task_Deoxy')\n",
    "    \n",
    "    plt.axvspan(stage1, stage2, facecolor=sns.color_palette('Paired')[1], alpha=0.5)\n",
    "    plt.vlines(stage2, -0.1, 1.3, linestyles= '--', colors= 'black',  linewidth=2.0)\n",
    "    plt.text((stage2 + stage1)/2, 1.2, 'Task', size= text_size, ha=\"center\", va= 'center', bbox=dict(boxstyle=\"round\",ec=(1., 0.5, 0.5),fc=(1., 0.8, 0.8),))\n",
    "\n",
    "    # 第三階段\n",
    "    plt.plot(check_df.loc[stage2:stage3].index, check_df.loc[stage2:stage3].iloc[:, 2*i], c= 'b', linewidth=3.0, label= 'Recovery_Oxy')\n",
    "    plt.plot(check_df.loc[stage2:stage3].index, check_df.loc[stage2:stage3].iloc[:, 2*i + 1], c= 'r', linewidth=3.0, label= 'Recovery_Oxy')\n",
    "\n",
    "    plt.axvspan(stage2, stage3, facecolor=sns.color_palette('Paired')[2], alpha=0.5)\n",
    "    plt.text((stage3 + stage2)/2, 1.2, 'Recovery', size= text_size, ha=\"center\", va= 'center', bbox=dict(boxstyle=\"round\",ec=(1., 0.5, 0.5),fc=(1., 0.8, 0.8),))\n",
    "\n",
    "    plt.title(f'CH{i+1}_blood_info', fontdict={'fontsize': 24})\n",
    "    plt.legend(custom_lines, ['Oxygen_Blood', 'Deoxygen_Blood'])\n",
    "    plt.tight_layout(pad= 3)\n",
    "plt.show()"
   ]
  },
  {
   "cell_type": "code",
   "execution_count": null,
   "metadata": {},
   "outputs": [],
   "source": []
  },
  {
   "cell_type": "code",
   "execution_count": null,
   "metadata": {},
   "outputs": [],
   "source": []
  }
 ],
 "metadata": {
  "interpreter": {
   "hash": "ad2bdc8ecc057115af97d19610ffacc2b4e99fae6737bb82f5d7fb13d2f2c186"
  },
  "kernelspec": {
   "display_name": "Python 3.9.7 ('base')",
   "language": "python",
   "name": "python3"
  },
  "language_info": {
   "codemirror_mode": {
    "name": "ipython",
    "version": 3
   },
   "file_extension": ".py",
   "mimetype": "text/x-python",
   "name": "python",
   "nbconvert_exporter": "python",
   "pygments_lexer": "ipython3",
   "version": "3.9.7"
  },
  "orig_nbformat": 4
 },
 "nbformat": 4,
 "nbformat_minor": 2
}
