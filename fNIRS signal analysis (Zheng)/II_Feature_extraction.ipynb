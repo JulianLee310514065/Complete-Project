{
 "cells": [
  {
   "cell_type": "code",
   "execution_count": null,
   "metadata": {},
   "outputs": [],
   "source": [
    "import pandas as pd\n",
    "import seaborn as sns\n",
    "import numpy as np\n",
    "import matplotlib.pyplot as plt\n",
    "\n",
    "import os\n",
    "import glob\n",
    "\n",
    "from scipy.stats import linregress"
   ]
  },
  {
   "cell_type": "code",
   "execution_count": null,
   "metadata": {},
   "outputs": [],
   "source": [
    "clean_list = glob.glob(r'C:\\Users\\BOIL_PO\\Desktop\\分類部分\\VV\\基於統計\\vv_clean\\*csv')\n",
    "print(len(clean_list))\n",
    "clean_list[0]"
   ]
  },
  {
   "attachments": {},
   "cell_type": "markdown",
   "metadata": {},
   "source": [
    "# Time sheet"
   ]
  },
  {
   "cell_type": "code",
   "execution_count": null,
   "metadata": {},
   "outputs": [],
   "source": [
    "dfss = pd.read_excel(r'C:\\Users\\BOIL_PO\\Desktop\\分類部分\\VV\\基於統計\\Time_sheet.xlsx', sheet_name='Time_VV')\n",
    "dfss"
   ]
  },
  {
   "attachments": {},
   "cell_type": "markdown",
   "metadata": {},
   "source": [
    "## 製作特徵萃取函數"
   ]
  },
  {
   "cell_type": "code",
   "execution_count": null,
   "metadata": {},
   "outputs": [],
   "source": [
    "df = pd.read_csv(clean_list[0], index_col= 'time(s)')  \n",
    "df"
   ]
  },
  {
   "cell_type": "code",
   "execution_count": null,
   "metadata": {},
   "outputs": [],
   "source": [
    "# 取出人對應的時間\n",
    "\n",
    "people_id = int(clean_list[0].split(\"\\\\\")[-1].split(\"_\")[0].split(\"-\")[1])\n",
    "date = int(clean_list[0].split(\"\\\\\")[-1].split(\"_\")[0].split(\"-\")[2])\n",
    "print(people_id, date)\n",
    "\n",
    "data_get = dfss[(dfss['Chart No']==people_id)  &\t(dfss['Date'] == date)]\n",
    "data_get\n"
   ]
  },
  {
   "cell_type": "code",
   "execution_count": null,
   "metadata": {},
   "outputs": [],
   "source": [
    "time_dura  = data_get[['Baseline', 'Stage1', 'Stage2',\t'Stage3', 'Stage4',\t'Stage5']].cumsum(axis= 1)*60\n",
    "time_series = [0] + time_dura.values[0].tolist()\n",
    "time_series"
   ]
  },
  {
   "cell_type": "code",
   "execution_count": null,
   "metadata": {},
   "outputs": [],
   "source": [
    "time_label = [0, 1, 2, 3, 4, 5]"
   ]
  },
  {
   "cell_type": "code",
   "execution_count": null,
   "metadata": {},
   "outputs": [],
   "source": [
    "df['stage'] = pd.cut(df.index, bins=time_series, labels=time_label, include_lowest=True)\n",
    "df_data = df.dropna(subset=['stage'])\n",
    "df_data"
   ]
  },
  {
   "attachments": {},
   "cell_type": "markdown",
   "metadata": {},
   "source": [
    "## 只要HbO2"
   ]
  },
  {
   "attachments": {},
   "cell_type": "markdown",
   "metadata": {},
   "source": [
    "# <font color = yellow>宇翰是三channel合併為一</font>"
   ]
  },
  {
   "cell_type": "code",
   "execution_count": null,
   "metadata": {},
   "outputs": [],
   "source": [
    "dfs = pd.DataFrame()\n",
    "df_drop = df_data.drop(columns=['TSI%'])\n",
    "\n",
    "for i in range(len(df_drop.columns)//3):\n",
    "    temp = df_drop[[df_drop.columns[i], df_drop.columns[i+3], df_drop.columns[i+6]]].mean(axis= 1).values\n",
    "    dfs[df_drop.columns[i].split(\"_\")[-1]] = temp\n",
    " \n",
    "dfs['stage'] = df_data['stage'].values\n",
    "dfs.index = df_data.index\n",
    "dfs"
   ]
  },
  {
   "cell_type": "code",
   "execution_count": null,
   "metadata": {},
   "outputs": [],
   "source": [
    "# stage mean\n",
    "def stage_begin_slope(x):\n",
    "    xxx = x.loc[(x.index[0] <= x.index) & (x.index <  x.index[0]+8)]\n",
    "    return linregress(xxx.index, xxx).slope\n",
    "\n",
    "\n",
    "\n",
    "\n",
    "def stage_mean_rela(df):\n",
    "\n",
    "    df_len = int(len(df.columns)) - 1\n",
    "\n",
    "\n",
    "    if not \"stage\" in df.columns:\n",
    "        print('No stage column')\n",
    "        return 0\n",
    "\n",
    "    \n",
    "    s_mean = df.groupby('stage').mean()\n",
    "    smean = s_mean.rename(columns= lambda x: x + '_mean')\n",
    "\n",
    "    s_activate = s_mean - s_mean.iloc[0]\n",
    "    sactivate = s_activate.rename(columns= lambda x: x + '_activate')\n",
    "\n",
    "    s_stage_diff = s_mean.diff()\n",
    "    sstage_diff = s_stage_diff.rename(columns= lambda x: x + '_mean_diff')\n",
    "\n",
    "    s_slope = df.groupby('stage').agg(stage_begin_slope)\n",
    "\n",
    "    sslope = s_slope.rename(columns= lambda x: x + '_begin_slope')\n",
    "\n",
    "    dfd = pd.concat([smean, sactivate, sstage_diff, sslope], axis= 1)\n",
    "        \n",
    "    return dfd"
   ]
  },
  {
   "cell_type": "code",
   "execution_count": null,
   "metadata": {},
   "outputs": [],
   "source": [
    "xx = stage_mean_rela(dfs)\n",
    "xx"
   ]
  },
  {
   "cell_type": "code",
   "execution_count": null,
   "metadata": {},
   "outputs": [],
   "source": [
    "df_save = pd.DataFrame()\n",
    "\n",
    "for mm in xx.stack().index:\n",
    "\n",
    "    if mm in [(0, 'HbO2_activate'), (0, 'tHb_activate'), (0, 'HHb_activate'), (1, 'HbO2_activate'), (1, 'HHb_activate'), (1, 'tHb_activate')]:\n",
    "        continue\n",
    "    i, row = mm\n",
    "    df_save[row+ \"_stage\" + str(i)] =  [xx.stack()[mm]]"
   ]
  },
  {
   "cell_type": "code",
   "execution_count": null,
   "metadata": {},
   "outputs": [],
   "source": [
    "df_save"
   ]
  },
  {
   "attachments": {},
   "cell_type": "markdown",
   "metadata": {},
   "source": [
    "# 批次行為"
   ]
  },
  {
   "cell_type": "code",
   "execution_count": null,
   "metadata": {},
   "outputs": [],
   "source": [
    "df_all = pd.DataFrame()\n",
    "time_label = [0, 1, 2, 3, 4, 5]\n",
    "for csv_data in clean_list:\n",
    "    df = pd.read_csv(csv_data, index_col= 'time(s)')  \n",
    "\n",
    "    people_id = int(csv_data.split(\"\\\\\")[-1].split(\"_\")[0].split(\"-\")[1])\n",
    "    date = int(csv_data.split(\"\\\\\")[-1].split(\"_\")[0].split(\"-\")[2])\n",
    "\n",
    "    data_get = dfss[(dfss['Chart No']==people_id) & (dfss['Date'] == date)]\n",
    "\n",
    "    sofa = data_get['SOFA score'].values\n",
    "\n",
    "    # time dura\n",
    "    time_dura  = data_get[['Baseline', 'Stage1', 'Stage2',\t'Stage3', 'Stage4',\t'Stage5']].cumsum(axis= 1)*60\n",
    "    time_series = [0] + time_dura.values[0].tolist()\n",
    "\n",
    "    df['stage'] = pd.cut(df.index, bins=time_series, labels=time_label, include_lowest=True)\n",
    "    df_data = df.dropna(subset=['stage'])\n",
    "\n",
    "    dfs = pd.DataFrame()\n",
    "    df_drop = df_data.drop(columns=['TSI%'])\n",
    "\n",
    "    for i in range(len(df_drop.columns)//3):\n",
    "        temp = df_drop[[df_drop.columns[i], df_drop.columns[i+3], df_drop.columns[i+6]]].mean(axis= 1).values\n",
    "        dfs[df_drop.columns[i].split(\"_\")[-1]] = temp\n",
    "    \n",
    "    dfs['stage'] = df_data['stage'].values\n",
    "    dfs.index = df_data.index\n",
    "\n",
    "\n",
    "    xx = stage_mean_rela(dfs)\n",
    "\n",
    "    df_save = pd.DataFrame()\n",
    "\n",
    "    for mm in xx.stack().index:\n",
    "\n",
    "        if mm in [(0, 'HbO2_activate'), (0, 'tHb_activate'), (0, 'HHb_activate'), (1, 'HbO2_activate'), (1, 'HHb_activate'), (1, 'tHb_activate')]:\n",
    "            continue\n",
    "        i, row = mm\n",
    "        df_save[row+ \"_stage\" + str(i)] =  [xx.stack()[mm]]\n",
    "\n",
    "    df_save['SOFA score'] = sofa\n",
    "\n",
    "    df_save.index = [str(people_id) + \"_\" + str(date)]\n",
    "    \n",
    "    df_all = pd.concat([df_all, df_save])\n",
    "    \n",
    "df_all"
   ]
  },
  {
   "cell_type": "code",
   "execution_count": null,
   "metadata": {},
   "outputs": [],
   "source": [
    "df_all.columns = [x.replace(\"stage0\", \"baseline\") for x in df_all.columns]\n",
    "df_all"
   ]
  },
  {
   "cell_type": "code",
   "execution_count": null,
   "metadata": {},
   "outputs": [],
   "source": [
    "df_all.to_csv(\"Feature_Extracition.csv\", index= True)"
   ]
  },
  {
   "cell_type": "code",
   "execution_count": null,
   "metadata": {},
   "outputs": [],
   "source": []
  }
 ],
 "metadata": {
  "kernelspec": {
   "display_name": "base",
   "language": "python",
   "name": "python3"
  },
  "language_info": {
   "codemirror_mode": {
    "name": "ipython",
    "version": 3
   },
   "file_extension": ".py",
   "mimetype": "text/x-python",
   "name": "python",
   "nbconvert_exporter": "python",
   "pygments_lexer": "ipython3",
   "version": "3.9.7"
  },
  "orig_nbformat": 4,
  "vscode": {
   "interpreter": {
    "hash": "ad2bdc8ecc057115af97d19610ffacc2b4e99fae6737bb82f5d7fb13d2f2c186"
   }
  }
 },
 "nbformat": 4,
 "nbformat_minor": 2
}
