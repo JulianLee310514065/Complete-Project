{
 "cells": [
  {
   "cell_type": "code",
   "execution_count": null,
   "metadata": {},
   "outputs": [],
   "source": [
    "from scipy import signal\n",
    "from scipy.stats import linregress\n",
    "\n",
    "import numpy as np\n",
    "import pandas as pd\n",
    "import seaborn as sns\n",
    "import matplotlib.pyplot as plt\n",
    "\n",
    "# Excel\n",
    "from openpyxl import load_workbook\n",
    "from openpyxl import Workbook\n",
    "import re\n",
    "import os \n",
    "import glob\n",
    "\n",
    "from os import listdir"
   ]
  },
  {
   "cell_type": "code",
   "execution_count": null,
   "metadata": {},
   "outputs": [],
   "source": [
    "sns.set_style(\"white\")"
   ]
  },
  {
   "attachments": {},
   "cell_type": "markdown",
   "metadata": {},
   "source": [
    "### 讀取Excel part"
   ]
  },
  {
   "cell_type": "code",
   "execution_count": null,
   "metadata": {},
   "outputs": [],
   "source": [
    "# Excel\n",
    "wb = load_workbook(filename=r\"C:\\Users\\BOIL_PO\\Desktop\\分類部分\\VV\\基於統計\\Time_sheet.xlsx\")\n",
    "ws = wb['Time_VV']"
   ]
  },
  {
   "cell_type": "code",
   "execution_count": null,
   "metadata": {},
   "outputs": [],
   "source": [
    "columns_name = ['No', 'Chart No', 'Date', 'Baseline', 'Stage1', 'Stage2', 'Stage3', 'Stage4', 'Stage5', 'SOFA', 'ECMO']\n",
    "search_time = pd.DataFrame(columns= columns_name)\n",
    "\n",
    "for i, row in enumerate(ws['A':'K']):\n",
    "    data_cols = []\n",
    "    for cell in row:\n",
    "        data_cols.append(cell.value)\n",
    "    search_time[columns_name[i]] = data_cols\n",
    "\n",
    "\n",
    "search_time = search_time.dropna().loc[1:]\n",
    "search_time = search_time.set_index('No')\n",
    "search_time.head(20)"
   ]
  },
  {
   "attachments": {},
   "cell_type": "markdown",
   "metadata": {},
   "source": [
    "### 我不知道宇翰要幹嗎???\n",
    "\n",
    "1. [970] 左腳\n",
    "2. [973] 右腳"
   ]
  },
  {
   "cell_type": "code",
   "execution_count": null,
   "metadata": {},
   "outputs": [],
   "source": [
    "data_list = glob.glob(r'C:\\Users\\BOIL_PO\\Desktop\\分類部分\\VV\\基於統計\\vv_testdata\\*.xlsx')\n",
    "data_list[40]"
   ]
  },
  {
   "cell_type": "code",
   "execution_count": null,
   "metadata": {},
   "outputs": [],
   "source": [
    "def get_df(link):\n",
    "    df = pd.read_excel(link, skiprows= 65, index_col=0)\n",
    "    dfs = df.drop(columns=23)\n",
    "    colname = ['time(ms)', 'L_TSI%', 'L_CH1_HbO2', 'L_CH1_HHb', 'L_CH1_tHb', 'L_CH2_HbO2', 'L_CH2_HHb', 'L_CH2_tHb', 'L_CH3_HbO2', 'L_CH3_HHb', 'L_CH3_tHb', 'R_TSI%', 'R_CH1_HbO2', 'R_CH1_HHb', 'R_CH1_tHb', 'R_CH2_HbO2', 'R_CH2_HHb', 'R_CH2_tHb', 'R_CH3_HbO2', 'R_CH3_HHb', 'R_CH3_tHb']\n",
    "    dfs.columns = colname\n",
    "    dfs['time(s)'] = dfs['time(ms)']/1000\n",
    "    dfs = dfs.set_index('time(s)')\n",
    "    dff = dfs.drop(columns=['time(ms)'])\n",
    "\n",
    "    select_side = search_time[search_time['Chart No'] == int(link.split('\\\\')[-1].split('-')[1])]['ECMO']\n",
    "    if select_side.values[0] == '左腳':\n",
    "        print('用右腳data')\n",
    "        df_r = dff.iloc[:, 10:]\n",
    "        df_r.columns = ['TSI%', 'CH1_HbO2', 'CH1_HHb', 'CH1_tHb', 'CH2_HbO2', 'CH2_HHb', 'CH2_tHb', 'CH3_HbO2', 'CH3_HHb', 'CH3_tHb']\n",
    "        return df_r\n",
    "        \n",
    "    else:\n",
    "        print('用左腳data')\n",
    "        df_r = dff.iloc[:, :10]\n",
    "        df_r.columns = ['TSI%', 'CH1_HbO2', 'CH1_HHb', 'CH1_tHb', 'CH2_HbO2', 'CH2_HHb', 'CH2_tHb', 'CH3_HbO2', 'CH3_HHb', 'CH3_tHb']\n",
    "        return df_r\n"
   ]
  },
  {
   "cell_type": "code",
   "execution_count": null,
   "metadata": {},
   "outputs": [],
   "source": [
    "dfm = get_df(data_list[21])\n",
    "dfm"
   ]
  },
  {
   "cell_type": "code",
   "execution_count": null,
   "metadata": {},
   "outputs": [],
   "source": [
    "plt.figure(figsize= (10, 10))\n",
    "for i, cols in enumerate(dfm.columns):\n",
    "    plt.subplot(5, 2, i+1)\n",
    "    plt.plot(dfm.index, dfm[cols], label= f'{cols}')\n",
    "    plt.title(cols)\n",
    "    plt.tight_layout()\n",
    "    plt.legend()"
   ]
  },
  {
   "cell_type": "code",
   "execution_count": null,
   "metadata": {},
   "outputs": [],
   "source": [
    "def filters(df_col):\n",
    "    b, c = signal.butter(4, 0.01, 'lowpass')\n",
    "    filter_a = signal.filtfilt(b, c,  df_col)\n",
    "    return filter_a"
   ]
  },
  {
   "cell_type": "code",
   "execution_count": null,
   "metadata": {},
   "outputs": [],
   "source": [
    "dfyy = dfm.apply(filters)\n",
    "plt.figure(figsize= (10, 10))\n",
    "for i, cols in enumerate(dfyy.columns):\n",
    "    plt.subplot(5, 2, i+1)\n",
    "    plt.plot(dfyy.index, dfyy[cols], label= f'{cols}')\n",
    "    plt.title(cols)\n",
    "    plt.tight_layout()\n",
    "    plt.legend()"
   ]
  },
  {
   "cell_type": "code",
   "execution_count": null,
   "metadata": {},
   "outputs": [],
   "source": [
    "from TDDR import TDDR"
   ]
  },
  {
   "cell_type": "code",
   "execution_count": null,
   "metadata": {},
   "outputs": [],
   "source": [
    "def tddr(x):\n",
    "    return TDDR(x, 17)"
   ]
  },
  {
   "cell_type": "code",
   "execution_count": null,
   "metadata": {},
   "outputs": [],
   "source": [
    "dftt = dfyy.apply(tddr)\n",
    "plt.figure(figsize= (10, 10))\n",
    "for i, cols in enumerate(dftt.columns):\n",
    "    plt.subplot(5, 2, i+1)\n",
    "    plt.plot(dftt.index, dftt[cols], label= f'{cols}')\n",
    "    plt.title(cols)\n",
    "    plt.tight_layout()\n",
    "    plt.legend()"
   ]
  },
  {
   "cell_type": "code",
   "execution_count": null,
   "metadata": {},
   "outputs": [],
   "source": [
    "def minmax(df):\n",
    "    df_out = (df - df.min())/(df.max()- df.min())\n",
    "\n",
    "    return df_out"
   ]
  },
  {
   "cell_type": "code",
   "execution_count": null,
   "metadata": {},
   "outputs": [],
   "source": [
    "dfzz = dftt.apply(minmax)\n",
    "plt.figure(figsize= (10, 10))\n",
    "for i, cols in enumerate(dfzz.columns):\n",
    "    plt.subplot(5, 2, i+1)\n",
    "    plt.plot(dfzz.index, dfzz[cols], label= f'{cols}')\n",
    "    plt.title(cols)\n",
    "    plt.tight_layout()\n",
    "    plt.legend()"
   ]
  },
  {
   "attachments": {},
   "cell_type": "markdown",
   "metadata": {},
   "source": [
    "## 批次行為"
   ]
  },
  {
   "cell_type": "code",
   "execution_count": null,
   "metadata": {},
   "outputs": [],
   "source": [
    "for data_link in data_list:\n",
    "\n",
    "    dfm = get_df(data_link)\n",
    "    dfyy = dfm.apply(filters)\n",
    "    dftt = dfyy.apply(tddr)\n",
    "    dfzz = dftt.apply(minmax)\n",
    "\n",
    "    plt.figure(figsize= (10, 10))\n",
    "    for i, cols in enumerate(dfzz.columns):\n",
    "        plt.subplot(5, 2, i+1)\n",
    "        plt.plot(dfzz.index, dfzz[cols], label= f'{cols}')\n",
    "        plt.title(cols)\n",
    "        plt.tight_layout()\n",
    "        plt.legend()\n",
    "    plt.show()\n",
    "\n",
    "    dfzz.to_csv(data_link.replace('.xlsx', '_processed.csv').replace('vv_testdata', 'vv_clean'), index= True)    "
   ]
  },
  {
   "cell_type": "code",
   "execution_count": null,
   "metadata": {},
   "outputs": [],
   "source": []
  },
  {
   "cell_type": "code",
   "execution_count": null,
   "metadata": {},
   "outputs": [],
   "source": []
  }
 ],
 "metadata": {
  "kernelspec": {
   "display_name": "base",
   "language": "python",
   "name": "python3"
  },
  "language_info": {
   "codemirror_mode": {
    "name": "ipython",
    "version": 3
   },
   "file_extension": ".py",
   "mimetype": "text/x-python",
   "name": "python",
   "nbconvert_exporter": "python",
   "pygments_lexer": "ipython3",
   "version": "3.9.7"
  },
  "orig_nbformat": 4,
  "vscode": {
   "interpreter": {
    "hash": "ad2bdc8ecc057115af97d19610ffacc2b4e99fae6737bb82f5d7fb13d2f2c186"
   }
  }
 },
 "nbformat": 4,
 "nbformat_minor": 2
}
